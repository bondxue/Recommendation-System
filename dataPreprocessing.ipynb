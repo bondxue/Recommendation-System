{
 "cells": [
  {
   "cell_type": "markdown",
   "metadata": {},
   "source": [
    "### Data Preprocessing for 100K MovieLens Dataset"
   ]
  },
  {
   "cell_type": "code",
   "execution_count": 9,
   "metadata": {},
   "outputs": [],
   "source": [
    "import numpy as np\n",
    "import warnings\n",
    "warnings.filterwarnings('ignore')"
   ]
  },
  {
   "cell_type": "markdown",
   "metadata": {},
   "source": [
    "### loading data as rating matrix"
   ]
  },
  {
   "cell_type": "code",
   "execution_count": 2,
   "metadata": {},
   "outputs": [],
   "source": [
    "num_user = 943\n",
    "num_movie = 1682\n",
    "# num_ratings = 100000\n",
    "all_mean = 0\n",
    "# user_mean = np.zeros(num_user,dtype=int)\n",
    "# movie_mean = np.zeros(num_movie,dtype=int)\n",
    "\n",
    "def load_data(filename):\n",
    "    '''Load training data from dataset'''\n",
    "    f = open('dataset/ml-100k/' + filename, 'rt')\n",
    "    t = 0\n",
    "    ratings = np.zeros((num_user, num_movie), dtype=int).reshape(num_user, num_movie)\n",
    "    for line in f.readlines():\n",
    "        user, movie, rating = [int(x) for x in line.split()[:3]]\n",
    "        if t % 10000 == 0:\n",
    "            print('Loading %6d case: ' % t, user, movie, rating)\n",
    "        ratings[user - 1, movie - 1] = rating\n",
    "        t += 1\n",
    "    print('Loading complete.')\n",
    "    print(np.size(ratings))\n",
    "    return ratings   "
   ]
  },
  {
   "cell_type": "code",
   "execution_count": 3,
   "metadata": {},
   "outputs": [
    {
     "name": "stdout",
     "output_type": "stream",
     "text": [
      "Loading      0 case:  1 1 5\n",
      "Loading  10000 case:  189 207 5\n",
      "Loading  20000 case:  334 689 3\n",
      "Loading  30000 case:  445 895 2\n",
      "Loading  40000 case:  535 42 3\n",
      "Loading  50000 case:  642 66 5\n",
      "Loading  60000 case:  744 657 5\n",
      "Loading  70000 case:  849 121 5\n",
      "Loading complete.\n",
      "1586126\n"
     ]
    }
   ],
   "source": [
    "ratings = load_data('u1.base')"
   ]
  },
  {
   "cell_type": "code",
   "execution_count": 10,
   "metadata": {},
   "outputs": [
    {
     "name": "stdout",
     "output_type": "stream",
     "text": [
      "False True\n",
      "False False\n",
      "Mean rating of all movies is  3.53\n"
     ]
    }
   ],
   "source": [
    "def cal_mean(ratings):\n",
    "    '''Calculate mean value'''\n",
    "    global all_mean, user_mean, movie_mean\n",
    "    all_mean = np.mean(ratings[ratings!=0])\n",
    "    user_mean = sum(ratings.T) / sum((ratings!=0).T)\n",
    "    movie_mean = sum(ratings) / sum((ratings!=0))\n",
    "    print(np.isnan(user_mean).any(), np.isnan(movie_mean).any())\n",
    "    # Replace NaN to all_mean.\n",
    "    user_mean = np.where(np.isnan(user_mean), all_mean, user_mean)\n",
    "    movie_mean = np.where(np.isnan(movie_mean), all_mean, movie_mean)\n",
    "    print(np.isnan(user_mean).any(), np.isnan(movie_mean).any())\n",
    "    print('Mean rating of all movies is ', round(all_mean,2))\n",
    "\n",
    "cal_mean(ratings)"
   ]
  },
  {
   "cell_type": "code",
   "execution_count": 11,
   "metadata": {},
   "outputs": [],
   "source": [
    "def predict_naive(user_id, movie_id):\n",
    "    '''Naive predict method'''\n",
    "    prediction = round(movie_mean[movie_id] + user_mean[user_id] - all_mean, 2)\n",
    "    return prediction"
   ]
  },
  {
   "cell_type": "code",
   "execution_count": null,
   "metadata": {},
   "outputs": [],
   "source": []
  }
 ],
 "metadata": {
  "kernelspec": {
   "display_name": "Python 3",
   "language": "python",
   "name": "python3"
  },
  "language_info": {
   "codemirror_mode": {
    "name": "ipython",
    "version": 3
   },
   "file_extension": ".py",
   "mimetype": "text/x-python",
   "name": "python",
   "nbconvert_exporter": "python",
   "pygments_lexer": "ipython3",
   "version": "3.6.7"
  }
 },
 "nbformat": 4,
 "nbformat_minor": 2
}
