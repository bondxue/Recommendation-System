{
 "cells": [
  {
   "cell_type": "markdown",
   "metadata": {},
   "source": [
    "## Movie Recommendation System"
   ]
  },
  {
   "cell_type": "code",
   "execution_count": 2,
   "metadata": {},
   "outputs": [],
   "source": [
    "from __future__ import print_function, division\n",
    "from builtins import range, input\n",
    "\n",
    "import pandas as pd"
   ]
  },
  {
   "cell_type": "markdown",
   "metadata": {},
   "source": [
    "### Data Preprocessing\n",
    "+ Note: user ids are ordered sequentially from 1..138493 with no missing numbers, movie ids are integers from 1..131262 and NOT all movie ids appear, there are only 26744 movie ids"
   ]
  },
  {
   "cell_type": "code",
   "execution_count": 3,
   "metadata": {},
   "outputs": [],
   "source": [
    "df = pd.read_csv('movielens-20m-dataset/rating.csv')"
   ]
  },
  {
   "cell_type": "code",
   "execution_count": null,
   "metadata": {},
   "outputs": [],
   "source": [
    "# make the user ids go from 0...N-1\n",
    "df.userId = df.userId - 1\n",
    "\n",
    "# create a mapping for movie ids\n",
    "unique_movie_ids = set(df.movieId.values)\n",
    "movie2idx = {}\n",
    "count = 0\n",
    "for movie_id in unique_movie_ids:\n",
    "  movie2idx[movie_id] = count\n",
    "  count += 1\n",
    "\n",
    "# add them to the data frame\n",
    "# takes awhile\n",
    "df['movie_idx'] = df.apply(lambda row: movie2idx[row.movieId], axis=1)\n",
    "\n",
    "df = df.drop(columns=['timestamp']) # we don't need timestamp data\n",
    "\n",
    "df.to_csv('movielens-20m-dataset/edited_rating.csv', index=False)"
   ]
  },
  {
   "cell_type": "code",
   "execution_count": null,
   "metadata": {},
   "outputs": [],
   "source": []
  }
 ],
 "metadata": {
  "kernelspec": {
   "display_name": "Python 3",
   "language": "python",
   "name": "python3"
  },
  "language_info": {
   "codemirror_mode": {
    "name": "ipython",
    "version": 3
   },
   "file_extension": ".py",
   "mimetype": "text/x-python",
   "name": "python",
   "nbconvert_exporter": "python",
   "pygments_lexer": "ipython3",
   "version": "3.6.7"
  }
 },
 "nbformat": 4,
 "nbformat_minor": 2
}
